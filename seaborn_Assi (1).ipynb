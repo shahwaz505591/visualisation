{
 "cells": [
  {
   "cell_type": "markdown",
   "id": "2aab0816-f3aa-4bb3-bc1b-709b04de0482",
   "metadata": {},
   "source": [
    "Que 1: Name any five plots that we can plot using the Seaborn library. Also, state the uses of each plot.\n",
    "Ans:\n",
    "    Scatter plot: Uses: Showing the relationship between two variables.\n",
    "Bar plot: Uses: Comparing categories and their values.\n",
    "Line plot: Uses: Displaying trends over a continuous variable.\n",
    "Box plot: Uses: Displaying the distribution of data based on a five-number summary.\n",
    "Histogram: Uses: Showing the distribution of a single variable.\n",
    "    \n"
   ]
  },
  {
   "cell_type": "markdown",
   "id": "ede6d936-df96-40f0-be4a-bc46329b2e77",
   "metadata": {},
   "source": [
    "Que 2: Load the \"fmri\" dataset using the load_dataset function of seaborn. Plot a line plot using x =\n",
    "\"timepoint\" and y = \"signal\" for different events and regions.\n",
    "Note: timepoint, signal, event, and region are columns in the fmri dataset.\n",
    "Ans:\n",
    "  \n",
    "\n",
    "fmri=sns.load_dataset('fmri')\n",
    "sns.lineplot(fmri,x='timepoint',y='signal',hue='event',style='region')"
   ]
  },
  {
   "cell_type": "markdown",
   "id": "24b4c327-ae11-48fe-a487-5c722fba0d2c",
   "metadata": {},
   "source": [
    "Que 3: Load the \"titanic\" dataset using the load_dataset function of seaborn. Plot two box plots using x =\n",
    "'pclass', y = 'age' and y = 'fare'.\n",
    "Note: pclass, age, and fare are columns in the titanic dataset.\n",
    "ANs:\n",
    "    #pclass vs age\n",
    "    titanic=sns.load_dataset('titanic')\n",
    "    sns.boxplot(titanic,x='pclass',y='age')\n",
    "    \n",
    "    #p class vs fare\n",
    "    sns.boxenplot(titanic,x='pclass',y='fare')"
   ]
  },
  {
   "cell_type": "markdown",
   "id": "0e5df1d6-5df1-4ab7-9ec4-2d42822af0f0",
   "metadata": {},
   "source": [
    "Que 4: Use the \"diamonds\" dataset from seaborn to plot a histogram for the 'price' column. Use the hue\n",
    "parameter for the 'cut' column of the diamonds dataset.\n",
    "Ans:\n",
    "    \n",
    "    diamond=sns.load_dataset('diamonds')\n",
    "sns.displot(data=diamond,x='price',hue='cut',kde=True)diamond=sns.load_dataset('diamonds')\n",
    "sns.displot(data=diamond,x='price',hue='cut',kde=True)\n",
    "    "
   ]
  },
  {
   "cell_type": "markdown",
   "id": "4c59efb9-7a7d-4016-bc45-3e811af829a3",
   "metadata": {},
   "source": [
    "Que 5: Use the \"iris\" dataset from seaborn to plot a pair plot. Use the hue parameter for the \"species\" column\n",
    "of the iris dataset.\n",
    "Ans:\n",
    "    iris=sns.load_dataset('iris')\n",
    "    sns.pairplot(iris,hue='species')"
   ]
  },
  {
   "cell_type": "markdown",
   "id": "bd05d83f-c275-42f1-9d1a-f6a3b9d7e8a3",
   "metadata": {},
   "source": [
    "Que 6: Use the \"flights\" dataset from seaborn to plot a heatmap.\n",
    "Ans:\n",
    "    import seaborn as sns\n",
    "    flights=sns.load_dataset('fligths').pivot(index='year',columns='month',values='passengers')\n",
    "    sns.heatmap(flights)"
   ]
  },
  {
   "cell_type": "code",
   "execution_count": null,
   "id": "cbc8d8f3-3887-4853-99e5-73386f669bf5",
   "metadata": {},
   "outputs": [],
   "source": []
  }
 ],
 "metadata": {
  "kernelspec": {
   "display_name": "Python 3 (ipykernel)",
   "language": "python",
   "name": "python3"
  },
  "language_info": {
   "codemirror_mode": {
    "name": "ipython",
    "version": 3
   },
   "file_extension": ".py",
   "mimetype": "text/x-python",
   "name": "python",
   "nbconvert_exporter": "python",
   "pygments_lexer": "ipython3",
   "version": "3.10.8"
  }
 },
 "nbformat": 4,
 "nbformat_minor": 5
}
